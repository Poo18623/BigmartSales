{
 "cells": [
  {
   "cell_type": "code",
   "execution_count": 164,
   "metadata": {},
   "outputs": [],
   "source": [
    "import findspark"
   ]
  },
  {
   "cell_type": "code",
   "execution_count": 165,
   "metadata": {},
   "outputs": [],
   "source": [
    "import pyspark\n",
    "from pyspark.sql import SparkSession"
   ]
  },
  {
   "cell_type": "code",
   "execution_count": 166,
   "metadata": {},
   "outputs": [],
   "source": [
    "spark = SparkSession.builder.appName(\"groupbyagg\").getOrCreate()"
   ]
  },
  {
   "cell_type": "code",
   "execution_count": 167,
   "metadata": {},
   "outputs": [],
   "source": [
    "spark = SparkSession.builder.appName(\"Basics\").getOrCreate()"
   ]
  },
  {
   "cell_type": "code",
   "execution_count": 168,
   "metadata": {},
   "outputs": [],
   "source": [
    "df_train = spark.read.csv('D:/bigmart-sales-data/Train.csv',inferSchema=True,header=True)\n",
    "df_test = spark.read.csv('D:/bigmart-sales-data/Test.csv',inferSchema=True,header=True)"
   ]
  },
  {
   "cell_type": "code",
   "execution_count": 169,
   "metadata": {},
   "outputs": [
    {
     "name": "stdout",
     "output_type": "stream",
     "text": [
      "+---------------+-----------+----------------+---------------+--------------------+--------+-----------------+-------------------------+-----------+--------------------+-----------------+-----------------+\n",
      "|Item_Identifier|Item_Weight|Item_Fat_Content|Item_Visibility|           Item_Type|Item_MRP|Outlet_Identifier|Outlet_Establishment_Year|Outlet_Size|Outlet_Location_Type|      Outlet_Type|Item_Outlet_Sales|\n",
      "+---------------+-----------+----------------+---------------+--------------------+--------+-----------------+-------------------------+-----------+--------------------+-----------------+-----------------+\n",
      "|          FDA15|        9.3|         Low Fat|    0.016047301|               Dairy|249.8092|           OUT049|                     1999|     Medium|              Tier 1|Supermarket Type1|         3735.138|\n",
      "|          DRC01|       5.92|         Regular|    0.019278216|         Soft Drinks| 48.2692|           OUT018|                     2009|     Medium|              Tier 3|Supermarket Type2|         443.4228|\n",
      "|          FDN15|       17.5|         Low Fat|    0.016760075|                Meat| 141.618|           OUT049|                     1999|     Medium|              Tier 1|Supermarket Type1|          2097.27|\n",
      "|          FDX07|       19.2|         Regular|            0.0|Fruits and Vegeta...| 182.095|           OUT010|                     1998|       null|              Tier 3|    Grocery Store|           732.38|\n",
      "|          NCD19|       8.93|         Low Fat|            0.0|           Household| 53.8614|           OUT013|                     1987|       High|              Tier 3|Supermarket Type1|         994.7052|\n",
      "|          FDP36|     10.395|         Regular|            0.0|        Baking Goods| 51.4008|           OUT018|                     2009|     Medium|              Tier 3|Supermarket Type2|         556.6088|\n",
      "|          FDO10|      13.65|         Regular|    0.012741089|         Snack Foods| 57.6588|           OUT013|                     1987|       High|              Tier 3|Supermarket Type1|         343.5528|\n",
      "|          FDP10|       null|         Low Fat|    0.127469857|         Snack Foods|107.7622|           OUT027|                     1985|     Medium|              Tier 3|Supermarket Type3|        4022.7636|\n",
      "|          FDH17|       16.2|         Regular|    0.016687114|        Frozen Foods| 96.9726|           OUT045|                     2002|       null|              Tier 2|Supermarket Type1|        1076.5986|\n",
      "|          FDU28|       19.2|         Regular|     0.09444959|        Frozen Foods|187.8214|           OUT017|                     2007|       null|              Tier 2|Supermarket Type1|         4710.535|\n",
      "|          FDY07|       11.8|         Low Fat|            0.0|Fruits and Vegeta...| 45.5402|           OUT049|                     1999|     Medium|              Tier 1|Supermarket Type1|        1516.0266|\n",
      "|          FDA03|       18.5|         Regular|    0.045463773|               Dairy|144.1102|           OUT046|                     1997|      Small|              Tier 1|Supermarket Type1|         2187.153|\n",
      "|          FDX32|       15.1|         Regular|      0.1000135|Fruits and Vegeta...|145.4786|           OUT049|                     1999|     Medium|              Tier 1|Supermarket Type1|        1589.2646|\n",
      "|          FDS46|       17.6|         Regular|    0.047257328|         Snack Foods|119.6782|           OUT046|                     1997|      Small|              Tier 1|Supermarket Type1|        2145.2076|\n",
      "|          FDF32|      16.35|         Low Fat|      0.0680243|Fruits and Vegeta...|196.4426|           OUT013|                     1987|       High|              Tier 3|Supermarket Type1|         1977.426|\n",
      "|          FDP49|        9.0|         Regular|    0.069088961|           Breakfast| 56.3614|           OUT046|                     1997|      Small|              Tier 1|Supermarket Type1|        1547.3192|\n",
      "|          NCB42|       11.8|         Low Fat|    0.008596051|  Health and Hygiene|115.3492|           OUT018|                     2009|     Medium|              Tier 3|Supermarket Type2|        1621.8888|\n",
      "|          FDP49|        9.0|         Regular|    0.069196376|           Breakfast| 54.3614|           OUT049|                     1999|     Medium|              Tier 1|Supermarket Type1|         718.3982|\n",
      "|          DRI11|       null|         Low Fat|    0.034237682|         Hard Drinks|113.2834|           OUT027|                     1985|     Medium|              Tier 3|Supermarket Type3|         2303.668|\n",
      "|          FDU02|      13.35|         Low Fat|     0.10249212|               Dairy|230.5352|           OUT035|                     2004|      Small|              Tier 2|Supermarket Type1|        2748.4224|\n",
      "+---------------+-----------+----------------+---------------+--------------------+--------+-----------------+-------------------------+-----------+--------------------+-----------------+-----------------+\n",
      "only showing top 20 rows\n",
      "\n"
     ]
    }
   ],
   "source": [
    "df_train.show()"
   ]
  },
  {
   "cell_type": "code",
   "execution_count": 170,
   "metadata": {},
   "outputs": [
    {
     "name": "stdout",
     "output_type": "stream",
     "text": [
      "+---------------+-----------+----------------+---------------+--------------------+--------+-----------------+-------------------------+-----------+--------------------+-----------------+\n",
      "|Item_Identifier|Item_Weight|Item_Fat_Content|Item_Visibility|           Item_Type|Item_MRP|Outlet_Identifier|Outlet_Establishment_Year|Outlet_Size|Outlet_Location_Type|      Outlet_Type|\n",
      "+---------------+-----------+----------------+---------------+--------------------+--------+-----------------+-------------------------+-----------+--------------------+-----------------+\n",
      "|          FDW58|      20.75|         Low Fat|    0.007564836|         Snack Foods|107.8622|           OUT049|                     1999|     Medium|              Tier 1|Supermarket Type1|\n",
      "|          FDW14|        8.3|             reg|    0.038427677|               Dairy| 87.3198|           OUT017|                     2007|       null|              Tier 2|Supermarket Type1|\n",
      "|          NCN55|       14.6|         Low Fat|    0.099574908|              Others|241.7538|           OUT010|                     1998|       null|              Tier 3|    Grocery Store|\n",
      "|          FDQ58|      7.315|         Low Fat|    0.015388393|         Snack Foods| 155.034|           OUT017|                     2007|       null|              Tier 2|Supermarket Type1|\n",
      "|          FDY38|       null|         Regular|    0.118599314|               Dairy|  234.23|           OUT027|                     1985|     Medium|              Tier 3|Supermarket Type3|\n",
      "|          FDH56|        9.8|         Regular|    0.063817206|Fruits and Vegeta...|117.1492|           OUT046|                     1997|      Small|              Tier 1|Supermarket Type1|\n",
      "|          FDL48|      19.35|         Regular|    0.082601537|        Baking Goods| 50.1034|           OUT018|                     2009|     Medium|              Tier 3|Supermarket Type2|\n",
      "|          FDC48|       null|         Low Fat|    0.015782495|        Baking Goods| 81.0592|           OUT027|                     1985|     Medium|              Tier 3|Supermarket Type3|\n",
      "|          FDN33|      6.305|         Regular|    0.123365446|         Snack Foods| 95.7436|           OUT045|                     2002|       null|              Tier 2|Supermarket Type1|\n",
      "|          FDA36|      5.985|         Low Fat|    0.005698435|        Baking Goods|186.8924|           OUT017|                     2007|       null|              Tier 2|Supermarket Type1|\n",
      "|          FDT44|       16.6|         Low Fat|    0.103569075|Fruits and Vegeta...|118.3466|           OUT017|                     2007|       null|              Tier 2|Supermarket Type1|\n",
      "|          FDQ56|       6.59|         Low Fat|     0.10581147|Fruits and Vegeta...| 85.3908|           OUT045|                     2002|       null|              Tier 2|Supermarket Type1|\n",
      "|          NCC54|       null|         Low Fat|    0.171079215|  Health and Hygiene|240.4196|           OUT019|                     1985|      Small|              Tier 1|    Grocery Store|\n",
      "|          FDU11|      4.785|         Low Fat|    0.092737611|              Breads|122.3098|           OUT049|                     1999|     Medium|              Tier 1|Supermarket Type1|\n",
      "|          DRL59|      16.75|              LF|    0.021206464|         Hard Drinks| 52.0298|           OUT013|                     1987|       High|              Tier 3|Supermarket Type1|\n",
      "|          FDM24|      6.135|         Regular|      0.0794507|        Baking Goods|151.6366|           OUT049|                     1999|     Medium|              Tier 1|Supermarket Type1|\n",
      "|          FDI57|      19.85|         Low Fat|     0.05413521|             Seafood|198.7768|           OUT045|                     2002|       null|              Tier 2|Supermarket Type1|\n",
      "|          DRC12|      17.85|         Low Fat|    0.037980963|         Soft Drinks|192.2188|           OUT018|                     2009|     Medium|              Tier 3|Supermarket Type2|\n",
      "|          NCM42|       null|         Low Fat|    0.028184344|           Household|109.6912|           OUT027|                     1985|     Medium|              Tier 3|Supermarket Type3|\n",
      "|          FDA46|       13.6|         Low Fat|    0.196897637|         Snack Foods|193.7136|           OUT010|                     1998|       null|              Tier 3|    Grocery Store|\n",
      "+---------------+-----------+----------------+---------------+--------------------+--------+-----------------+-------------------------+-----------+--------------------+-----------------+\n",
      "only showing top 20 rows\n",
      "\n"
     ]
    }
   ],
   "source": [
    "df_test.show()"
   ]
  },
  {
   "cell_type": "code",
   "execution_count": 171,
   "metadata": {},
   "outputs": [],
   "source": [
    "#DATA CLEANING, REMOVING MISSING VALUES\n",
    "#I. Identify and replace null values for each feature column\n",
    "\n",
    "#converting null string variables to NA. numeric variables to 0 - For Training Dataset\n",
    "df_train = df_train.fillna({'Item_Identifier':'NA'})\n",
    "df_train = df_train.fillna({'Item_Weight':'0'})\n",
    "df_train = df_train.fillna({'Item_Visibility':'0'})\n",
    "df_train = df_train.fillna({'Item_Fat_Content':'NA'})\n",
    "df_train= df_train.fillna({'Outlet_Size':'NA'})\n",
    "df_train = df_train.fillna({'Item_Type':'NA'})\n",
    "df_train = df_train.fillna({'Item_MRP':'0'})\n",
    "df_train = df_train.fillna({'Outlet_Identifier':'NA'})\n",
    "df_train = df_train.fillna({'Outlet_Establishment_Year':'NA'})\n",
    "df_train = df_train.fillna({'Outlet_Location_Type':'NA'})\n",
    "df_train= df_train.fillna({'Outlet_Type':'NA'})\n",
    "df_train= df_train.fillna({'Item_Outlet_Sales':'0'})\n",
    "\n",
    "#converting null string variables to NA. numeric variables to 0 - For Testing Dataset\n",
    "df_test = df_test.fillna({'Item_Identifier':'NA'})\n",
    "df_test = df_test.fillna({'Item_Weight':'0'})\n",
    "df_test = df_test.fillna({'Item_Visibility':'0'})\n",
    "df_test = df_test.fillna({'Item_Fat_Content':'NA'})\n",
    "df_test = df_test.fillna({'Outlet_Size':'NA'})\n",
    "df_test = df_test.fillna({'Item_Type':'NA'})\n",
    "df_test = df_test.fillna({'Item_MRP':'0'})\n",
    "df_test = df_test.fillna({'Outlet_Identifier':'NA'})\n",
    "df_test = df_test.fillna({'Outlet_Establishment_Year':'NA'})\n",
    "df_test = df_test.fillna({'Outlet_Location_Type':'NA'})\n",
    "df_test= df_test.fillna({'Outlet_Type':'NA'})\n",
    "\n"
   ]
  },
  {
   "cell_type": "code",
   "execution_count": 172,
   "metadata": {},
   "outputs": [
    {
     "name": "stdout",
     "output_type": "stream",
     "text": [
      "+---------------+-----------+----------------+---------------+--------------------+--------+-----------------+-------------------------+-----------+--------------------+-----------------+-----------------+\n",
      "|Item_Identifier|Item_Weight|Item_Fat_Content|Item_Visibility|           Item_Type|Item_MRP|Outlet_Identifier|Outlet_Establishment_Year|Outlet_Size|Outlet_Location_Type|      Outlet_Type|Item_Outlet_Sales|\n",
      "+---------------+-----------+----------------+---------------+--------------------+--------+-----------------+-------------------------+-----------+--------------------+-----------------+-----------------+\n",
      "|          FDA15|        9.3|         Low Fat|    0.016047301|               Dairy|249.8092|           OUT049|                     1999|     Medium|              Tier 1|Supermarket Type1|         3735.138|\n",
      "|          DRC01|       5.92|         Regular|    0.019278216|         Soft Drinks| 48.2692|           OUT018|                     2009|     Medium|              Tier 3|Supermarket Type2|         443.4228|\n",
      "|          FDN15|       17.5|         Low Fat|    0.016760075|                Meat| 141.618|           OUT049|                     1999|     Medium|              Tier 1|Supermarket Type1|          2097.27|\n",
      "|          FDX07|       19.2|         Regular|            0.0|Fruits and Vegeta...| 182.095|           OUT010|                     1998|         NA|              Tier 3|    Grocery Store|           732.38|\n",
      "|          NCD19|       8.93|         Low Fat|            0.0|           Household| 53.8614|           OUT013|                     1987|       High|              Tier 3|Supermarket Type1|         994.7052|\n",
      "|          FDP36|     10.395|         Regular|            0.0|        Baking Goods| 51.4008|           OUT018|                     2009|     Medium|              Tier 3|Supermarket Type2|         556.6088|\n",
      "|          FDO10|      13.65|         Regular|    0.012741089|         Snack Foods| 57.6588|           OUT013|                     1987|       High|              Tier 3|Supermarket Type1|         343.5528|\n",
      "|          FDP10|        0.0|         Low Fat|    0.127469857|         Snack Foods|107.7622|           OUT027|                     1985|     Medium|              Tier 3|Supermarket Type3|        4022.7636|\n",
      "|          FDH17|       16.2|         Regular|    0.016687114|        Frozen Foods| 96.9726|           OUT045|                     2002|         NA|              Tier 2|Supermarket Type1|        1076.5986|\n",
      "|          FDU28|       19.2|         Regular|     0.09444959|        Frozen Foods|187.8214|           OUT017|                     2007|         NA|              Tier 2|Supermarket Type1|         4710.535|\n",
      "|          FDY07|       11.8|         Low Fat|            0.0|Fruits and Vegeta...| 45.5402|           OUT049|                     1999|     Medium|              Tier 1|Supermarket Type1|        1516.0266|\n",
      "|          FDA03|       18.5|         Regular|    0.045463773|               Dairy|144.1102|           OUT046|                     1997|      Small|              Tier 1|Supermarket Type1|         2187.153|\n",
      "|          FDX32|       15.1|         Regular|      0.1000135|Fruits and Vegeta...|145.4786|           OUT049|                     1999|     Medium|              Tier 1|Supermarket Type1|        1589.2646|\n",
      "|          FDS46|       17.6|         Regular|    0.047257328|         Snack Foods|119.6782|           OUT046|                     1997|      Small|              Tier 1|Supermarket Type1|        2145.2076|\n",
      "|          FDF32|      16.35|         Low Fat|      0.0680243|Fruits and Vegeta...|196.4426|           OUT013|                     1987|       High|              Tier 3|Supermarket Type1|         1977.426|\n",
      "|          FDP49|        9.0|         Regular|    0.069088961|           Breakfast| 56.3614|           OUT046|                     1997|      Small|              Tier 1|Supermarket Type1|        1547.3192|\n",
      "|          NCB42|       11.8|         Low Fat|    0.008596051|  Health and Hygiene|115.3492|           OUT018|                     2009|     Medium|              Tier 3|Supermarket Type2|        1621.8888|\n",
      "|          FDP49|        9.0|         Regular|    0.069196376|           Breakfast| 54.3614|           OUT049|                     1999|     Medium|              Tier 1|Supermarket Type1|         718.3982|\n",
      "|          DRI11|        0.0|         Low Fat|    0.034237682|         Hard Drinks|113.2834|           OUT027|                     1985|     Medium|              Tier 3|Supermarket Type3|         2303.668|\n",
      "|          FDU02|      13.35|         Low Fat|     0.10249212|               Dairy|230.5352|           OUT035|                     2004|      Small|              Tier 2|Supermarket Type1|        2748.4224|\n",
      "+---------------+-----------+----------------+---------------+--------------------+--------+-----------------+-------------------------+-----------+--------------------+-----------------+-----------------+\n",
      "only showing top 20 rows\n",
      "\n"
     ]
    }
   ],
   "source": [
    "df1= df_train.show()"
   ]
  },
  {
   "cell_type": "code",
   "execution_count": 173,
   "metadata": {},
   "outputs": [
    {
     "name": "stdout",
     "output_type": "stream",
     "text": [
      "+---------------+-----------+----------------+---------------+--------------------+--------+-----------------+-------------------------+-----------+--------------------+-----------------+\n",
      "|Item_Identifier|Item_Weight|Item_Fat_Content|Item_Visibility|           Item_Type|Item_MRP|Outlet_Identifier|Outlet_Establishment_Year|Outlet_Size|Outlet_Location_Type|      Outlet_Type|\n",
      "+---------------+-----------+----------------+---------------+--------------------+--------+-----------------+-------------------------+-----------+--------------------+-----------------+\n",
      "|          FDW58|      20.75|         Low Fat|    0.007564836|         Snack Foods|107.8622|           OUT049|                     1999|     Medium|              Tier 1|Supermarket Type1|\n",
      "|          FDW14|        8.3|             reg|    0.038427677|               Dairy| 87.3198|           OUT017|                     2007|         NA|              Tier 2|Supermarket Type1|\n",
      "|          NCN55|       14.6|         Low Fat|    0.099574908|              Others|241.7538|           OUT010|                     1998|         NA|              Tier 3|    Grocery Store|\n",
      "|          FDQ58|      7.315|         Low Fat|    0.015388393|         Snack Foods| 155.034|           OUT017|                     2007|         NA|              Tier 2|Supermarket Type1|\n",
      "|          FDY38|        0.0|         Regular|    0.118599314|               Dairy|  234.23|           OUT027|                     1985|     Medium|              Tier 3|Supermarket Type3|\n",
      "|          FDH56|        9.8|         Regular|    0.063817206|Fruits and Vegeta...|117.1492|           OUT046|                     1997|      Small|              Tier 1|Supermarket Type1|\n",
      "|          FDL48|      19.35|         Regular|    0.082601537|        Baking Goods| 50.1034|           OUT018|                     2009|     Medium|              Tier 3|Supermarket Type2|\n",
      "|          FDC48|        0.0|         Low Fat|    0.015782495|        Baking Goods| 81.0592|           OUT027|                     1985|     Medium|              Tier 3|Supermarket Type3|\n",
      "|          FDN33|      6.305|         Regular|    0.123365446|         Snack Foods| 95.7436|           OUT045|                     2002|         NA|              Tier 2|Supermarket Type1|\n",
      "|          FDA36|      5.985|         Low Fat|    0.005698435|        Baking Goods|186.8924|           OUT017|                     2007|         NA|              Tier 2|Supermarket Type1|\n",
      "|          FDT44|       16.6|         Low Fat|    0.103569075|Fruits and Vegeta...|118.3466|           OUT017|                     2007|         NA|              Tier 2|Supermarket Type1|\n",
      "|          FDQ56|       6.59|         Low Fat|     0.10581147|Fruits and Vegeta...| 85.3908|           OUT045|                     2002|         NA|              Tier 2|Supermarket Type1|\n",
      "|          NCC54|        0.0|         Low Fat|    0.171079215|  Health and Hygiene|240.4196|           OUT019|                     1985|      Small|              Tier 1|    Grocery Store|\n",
      "|          FDU11|      4.785|         Low Fat|    0.092737611|              Breads|122.3098|           OUT049|                     1999|     Medium|              Tier 1|Supermarket Type1|\n",
      "|          DRL59|      16.75|              LF|    0.021206464|         Hard Drinks| 52.0298|           OUT013|                     1987|       High|              Tier 3|Supermarket Type1|\n",
      "|          FDM24|      6.135|         Regular|      0.0794507|        Baking Goods|151.6366|           OUT049|                     1999|     Medium|              Tier 1|Supermarket Type1|\n",
      "|          FDI57|      19.85|         Low Fat|     0.05413521|             Seafood|198.7768|           OUT045|                     2002|         NA|              Tier 2|Supermarket Type1|\n",
      "|          DRC12|      17.85|         Low Fat|    0.037980963|         Soft Drinks|192.2188|           OUT018|                     2009|     Medium|              Tier 3|Supermarket Type2|\n",
      "|          NCM42|        0.0|         Low Fat|    0.028184344|           Household|109.6912|           OUT027|                     1985|     Medium|              Tier 3|Supermarket Type3|\n",
      "|          FDA46|       13.6|         Low Fat|    0.196897637|         Snack Foods|193.7136|           OUT010|                     1998|         NA|              Tier 3|    Grocery Store|\n",
      "+---------------+-----------+----------------+---------------+--------------------+--------+-----------------+-------------------------+-----------+--------------------+-----------------+\n",
      "only showing top 20 rows\n",
      "\n"
     ]
    }
   ],
   "source": [
    "df2= df_test.show()"
   ]
  },
  {
   "cell_type": "code",
   "execution_count": 174,
   "metadata": {},
   "outputs": [
    {
     "name": "stdout",
     "output_type": "stream",
     "text": [
      "+---------------+-----------+----------------+---------------+--------------------+--------+-----------------+-------------------------+-----------+--------------------+-----------------+-----------------+\n",
      "|Item_Identifier|Item_Weight|Item_Fat_Content|Item_Visibility|           Item_Type|Item_MRP|Outlet_Identifier|Outlet_Establishment_Year|Outlet_Size|Outlet_Location_Type|      Outlet_Type|Item_Outlet_Sales|\n",
      "+---------------+-----------+----------------+---------------+--------------------+--------+-----------------+-------------------------+-----------+--------------------+-----------------+-----------------+\n",
      "|          FDA15|        9.3|         Low Fat|    0.016047301|               Dairy|249.8092|           OUT049|                     1999|     Medium|              Tier 1|Supermarket Type1|         3735.138|\n",
      "|          DRC01|       5.92|         Regular|    0.019278216|         Soft Drinks| 48.2692|           OUT018|                     2009|     Medium|              Tier 3|Supermarket Type2|         443.4228|\n",
      "|          FDN15|       17.5|         Low Fat|    0.016760075|                Meat| 141.618|           OUT049|                     1999|     Medium|              Tier 1|Supermarket Type1|          2097.27|\n",
      "|          FDX07|       19.2|         Regular|            0.0|Fruits and Vegeta...| 182.095|           OUT010|                     1998|         NA|              Tier 3|    Grocery Store|           732.38|\n",
      "|          NCD19|       8.93|         Low Fat|            0.0|           Household| 53.8614|           OUT013|                     1987|       High|              Tier 3|Supermarket Type1|         994.7052|\n",
      "|          FDP36|     10.395|         Regular|            0.0|        Baking Goods| 51.4008|           OUT018|                     2009|     Medium|              Tier 3|Supermarket Type2|         556.6088|\n",
      "|          FDO10|      13.65|         Regular|    0.012741089|         Snack Foods| 57.6588|           OUT013|                     1987|       High|              Tier 3|Supermarket Type1|         343.5528|\n",
      "|          FDP10|        0.0|         Low Fat|    0.127469857|         Snack Foods|107.7622|           OUT027|                     1985|     Medium|              Tier 3|Supermarket Type3|        4022.7636|\n",
      "|          FDH17|       16.2|         Regular|    0.016687114|        Frozen Foods| 96.9726|           OUT045|                     2002|         NA|              Tier 2|Supermarket Type1|        1076.5986|\n",
      "|          FDU28|       19.2|         Regular|     0.09444959|        Frozen Foods|187.8214|           OUT017|                     2007|         NA|              Tier 2|Supermarket Type1|         4710.535|\n",
      "|          FDY07|       11.8|         Low Fat|            0.0|Fruits and Vegeta...| 45.5402|           OUT049|                     1999|     Medium|              Tier 1|Supermarket Type1|        1516.0266|\n",
      "|          FDA03|       18.5|         Regular|    0.045463773|               Dairy|144.1102|           OUT046|                     1997|      Small|              Tier 1|Supermarket Type1|         2187.153|\n",
      "|          FDX32|       15.1|         Regular|      0.1000135|Fruits and Vegeta...|145.4786|           OUT049|                     1999|     Medium|              Tier 1|Supermarket Type1|        1589.2646|\n",
      "|          FDS46|       17.6|         Regular|    0.047257328|         Snack Foods|119.6782|           OUT046|                     1997|      Small|              Tier 1|Supermarket Type1|        2145.2076|\n",
      "|          FDF32|      16.35|         Low Fat|      0.0680243|Fruits and Vegeta...|196.4426|           OUT013|                     1987|       High|              Tier 3|Supermarket Type1|         1977.426|\n",
      "|          FDP49|        9.0|         Regular|    0.069088961|           Breakfast| 56.3614|           OUT046|                     1997|      Small|              Tier 1|Supermarket Type1|        1547.3192|\n",
      "|          NCB42|       11.8|         Low Fat|    0.008596051|  Health and Hygiene|115.3492|           OUT018|                     2009|     Medium|              Tier 3|Supermarket Type2|        1621.8888|\n",
      "|          FDP49|        9.0|         Regular|    0.069196376|           Breakfast| 54.3614|           OUT049|                     1999|     Medium|              Tier 1|Supermarket Type1|         718.3982|\n",
      "|          DRI11|        0.0|         Low Fat|    0.034237682|         Hard Drinks|113.2834|           OUT027|                     1985|     Medium|              Tier 3|Supermarket Type3|         2303.668|\n",
      "|          FDU02|      13.35|         Low Fat|     0.10249212|               Dairy|230.5352|           OUT035|                     2004|      Small|              Tier 2|Supermarket Type1|        2748.4224|\n",
      "+---------------+-----------+----------------+---------------+--------------------+--------+-----------------+-------------------------+-----------+--------------------+-----------------+-----------------+\n",
      "only showing top 20 rows\n",
      "\n"
     ]
    }
   ],
   "source": [
    "#III. Best selling item categories by location and store type?\n",
    "\n",
    "from pyspark.sql import *\n",
    "df_train.createOrReplaceTempView('assignment')\n",
    "sql_results = spark.sql(\"SELECT * FROM assignment\")\n",
    "sql_results.show()"
   ]
  },
  {
   "cell_type": "code",
   "execution_count": 177,
   "metadata": {},
   "outputs": [
    {
     "name": "stdout",
     "output_type": "stream",
     "text": [
      "+-----------------------+--------------------+-----------------+----------+\n",
      "|first(Item_Type, false)|Outlet_Location_Type|      Outlet_Type|item_count|\n",
      "+-----------------------+--------------------+-----------------+----------+\n",
      "|           Frozen Foods|              Tier 2|Supermarket Type1|      2785|\n",
      "|                  Dairy|              Tier 1|Supermarket Type1|      1860|\n",
      "|            Snack Foods|              Tier 3|Supermarket Type3|       935|\n",
      "|              Household|              Tier 3|Supermarket Type1|       932|\n",
      "|            Soft Drinks|              Tier 3|Supermarket Type2|       928|\n",
      "|   Fruits and Vegeta...|              Tier 3|    Grocery Store|       555|\n",
      "|           Baking Goods|              Tier 1|    Grocery Store|       528|\n",
      "+-----------------------+--------------------+-----------------+----------+\n",
      "\n"
     ]
    }
   ],
   "source": [
    "#Method-1\n",
    "most_selling_item = spark.sql(\"SELECT first(Item_Type), Outlet_Location_Type, Outlet_Type ,count(Item_Type) as item_count FROM assignment GROUP BY Outlet_Location_Type,Outlet_Type ORDER BY item_count DESC\");\n",
    "most_selling_item.show()"
   ]
  },
  {
   "cell_type": "code",
   "execution_count": 183,
   "metadata": {},
   "outputs": [
    {
     "name": "stdout",
     "output_type": "stream",
     "text": [
      "+--------------------+-----------------+----------------------+\n",
      "|Outlet_Location_Type|      Outlet_Type|max(Item_Outlet_Sales)|\n",
      "+--------------------+-----------------+----------------------+\n",
      "|              Tier 3|Supermarket Type2|             6768.5228|\n",
      "|              Tier 3|Supermarket Type3|            13086.9648|\n",
      "|              Tier 3|    Grocery Store|             1775.6886|\n",
      "|              Tier 3|Supermarket Type1|             10256.649|\n",
      "|              Tier 1|    Grocery Store|             1482.0708|\n",
      "|              Tier 1|Supermarket Type1|             9779.9362|\n",
      "|              Tier 2|Supermarket Type1|             9664.7528|\n",
      "+--------------------+-----------------+----------------------+\n",
      "\n"
     ]
    }
   ],
   "source": [
    "#Method-2  (this gave better results than the above)\n",
    "grouped = df_train.groupBy(\"Outlet_Location_Type\",\"Outlet_Type\")\n",
    "grouped.agg({\"Item_Outlet_Sales\":'max'}).show()\n"
   ]
  },
  {
   "cell_type": "code",
   "execution_count": 185,
   "metadata": {},
   "outputs": [
    {
     "name": "stdout",
     "output_type": "stream",
     "text": [
      "+--------------------+------------------+\n",
      "|           Item_Type|               SUM|\n",
      "+--------------------+------------------+\n",
      "|       Starchy Foods| 351401.2504000002|\n",
      "|        Baking Goods|      1265525.3422|\n",
      "|              Breads| 553237.1887999995|\n",
      "|Fruits and Vegeta...|2820059.8168000015|\n",
      "|                Meat| 917565.6119999996|\n",
      "|         Hard Drinks|457793.42719999974|\n",
      "|         Soft Drinks| 892897.7219999991|\n",
      "|           Household|2055493.7131999983|\n",
      "|           Breakfast|232298.95160000006|\n",
      "|               Dairy|1522594.0511999999|\n",
      "|         Snack Foods| 2732786.087000002|\n",
      "|              Others|       325517.6096|\n",
      "|             Seafood|148868.21940000003|\n",
      "|              Canned|1444151.4925999993|\n",
      "|        Frozen Foods|1825734.7885999978|\n",
      "|  Health and Hygiene|1045200.1378000001|\n",
      "+--------------------+------------------+\n",
      "\n"
     ]
    }
   ],
   "source": [
    "#Identify items which contribute to 80% of outlet sales\n",
    "tada=spark.sql(\"SELECT Item_Type, SUM(Item_Outlet_Sales) as SUM FROM  assignment  GROUP BY  Item_Type\");\n",
    "tada.show()"
   ]
  },
  {
   "cell_type": "code",
   "execution_count": 186,
   "metadata": {},
   "outputs": [],
   "source": [
    "from pyspark.sql.window import Window\n",
    "import pyspark.sql.functions as f\n",
    "\n"
   ]
  },
  {
   "cell_type": "code",
   "execution_count": 187,
   "metadata": {},
   "outputs": [],
   "source": [
    "from pyspark.sql import Row\n",
    "from pyspark.sql import SparkSession\n",
    "import pyspark.sql.functions as F\n",
    "from pyspark import SparkConf\n",
    "from pyspark.context import SparkContext\n",
    "from pyspark.sql.types import *\n",
    "\n",
    "  "
   ]
  },
  {
   "cell_type": "code",
   "execution_count": 189,
   "metadata": {},
   "outputs": [
    {
     "name": "stdout",
     "output_type": "stream",
     "text": [
      "+--------------------+------------------+\n",
      "|           Item_Type| Item_Outlet_Sales|\n",
      "+--------------------+------------------+\n",
      "|       Starchy Foods| 351401.2504000002|\n",
      "|        Baking Goods|      1265525.3422|\n",
      "|              Breads| 553237.1887999995|\n",
      "|Fruits and Vegeta...|2820059.8168000015|\n",
      "|                Meat| 917565.6119999996|\n",
      "|         Hard Drinks|457793.42719999974|\n",
      "|         Soft Drinks| 892897.7219999991|\n",
      "|           Household|2055493.7131999983|\n",
      "|           Breakfast|232298.95160000006|\n",
      "|               Dairy|1522594.0511999999|\n",
      "|         Snack Foods| 2732786.087000002|\n",
      "|              Others|       325517.6096|\n",
      "|             Seafood|148868.21940000003|\n",
      "|              Canned|1444151.4925999993|\n",
      "|        Frozen Foods|1825734.7885999978|\n",
      "|  Health and Hygiene|1045200.1378000001|\n",
      "+--------------------+------------------+\n",
      "\n"
     ]
    }
   ],
   "source": [
    "import pyspark.sql.functions as f\n",
    "from pyspark.sql.window import Window\n",
    "df13=df_train.groupBy(\"Item_Type\")\\\n",
    "  .agg({\"Item_Outlet_Sales\":\"sum\"})\\\n",
    "  .withColumnRenamed(\"SUM(Item_Outlet_Sales)\", \"Item_Outlet_Sales\")\n",
    "df13.show()\n"
   ]
  },
  {
   "cell_type": "code",
   "execution_count": 190,
   "metadata": {},
   "outputs": [],
   "source": [
    "df13=df13.withColumn('percent',f.col('Item_Outlet_Sales')/f.sum('Item_Outlet_Sales').over(Window.partitionBy()))"
   ]
  },
  {
   "cell_type": "code",
   "execution_count": 191,
   "metadata": {},
   "outputs": [
    {
     "name": "stdout",
     "output_type": "stream",
     "text": [
      "+--------------------+------------------+--------------------+\n",
      "|           Item_Type| Item_Outlet_Sales|             percent|\n",
      "+--------------------+------------------+--------------------+\n",
      "|       Starchy Foods| 351401.2504000002| 0.01890155881598346|\n",
      "|        Baking Goods|      1265525.3422| 0.06807147573175194|\n",
      "|              Breads| 553237.1887999995|0.029758133334441123|\n",
      "|Fruits and Vegeta...|2820059.8168000015| 0.15168849408236695|\n",
      "|                Meat| 917565.6119999996|0.049355033207764146|\n",
      "|         Hard Drinks|457793.42719999974|0.024624298803552106|\n",
      "|         Soft Drinks| 892897.7219999991| 0.04802816947813748|\n",
      "|           Household|2055493.7131999983| 0.11056316752347557|\n",
      "|           Breakfast|232298.95160000006|0.012495152739384487|\n",
      "|               Dairy|1522594.0511999999| 0.08189897155705544|\n",
      "|         Snack Foods| 2732786.087000002| 0.14699411825124176|\n",
      "|              Others|       325517.6096|0.017509300938710434|\n",
      "|             Seafood|148868.21940000003|0.008007488310348452|\n",
      "|              Canned|1444151.4925999993| 0.07767961652241513|\n",
      "|        Frozen Foods|1825734.7885999978| 0.09820464056353845|\n",
      "|  Health and Hygiene|1045200.1378000001|0.056220380139833194|\n",
      "+--------------------+------------------+--------------------+\n",
      "\n"
     ]
    }
   ],
   "source": [
    "df13.show()"
   ]
  },
  {
   "cell_type": "code",
   "execution_count": 192,
   "metadata": {},
   "outputs": [],
   "source": [
    "df13=df13.orderBy('percent', ascending=False)"
   ]
  },
  {
   "cell_type": "code",
   "execution_count": 193,
   "metadata": {},
   "outputs": [
    {
     "name": "stdout",
     "output_type": "stream",
     "text": [
      "+--------------------+------------------+--------------------+\n",
      "|           Item_Type| Item_Outlet_Sales|             percent|\n",
      "+--------------------+------------------+--------------------+\n",
      "|Fruits and Vegeta...|2820059.8168000015| 0.15168849408236695|\n",
      "|         Snack Foods| 2732786.087000002| 0.14699411825124176|\n",
      "|           Household|2055493.7131999983| 0.11056316752347557|\n",
      "|        Frozen Foods|1825734.7885999978| 0.09820464056353845|\n",
      "|               Dairy|1522594.0511999999| 0.08189897155705544|\n",
      "|              Canned|1444151.4925999993| 0.07767961652241513|\n",
      "|        Baking Goods|      1265525.3422| 0.06807147573175194|\n",
      "|  Health and Hygiene|1045200.1378000001|0.056220380139833194|\n",
      "|                Meat| 917565.6119999996|0.049355033207764146|\n",
      "|         Soft Drinks| 892897.7219999991| 0.04802816947813748|\n",
      "|              Breads| 553237.1887999995|0.029758133334441123|\n",
      "|         Hard Drinks|457793.42719999974|0.024624298803552106|\n",
      "|       Starchy Foods| 351401.2504000002| 0.01890155881598346|\n",
      "|              Others|       325517.6096|0.017509300938710434|\n",
      "|           Breakfast|232298.95160000006|0.012495152739384487|\n",
      "|             Seafood|148868.21940000003|0.008007488310348452|\n",
      "+--------------------+------------------+--------------------+\n",
      "\n"
     ]
    }
   ],
   "source": [
    "df13.show()"
   ]
  },
  {
   "cell_type": "code",
   "execution_count": 194,
   "metadata": {},
   "outputs": [
    {
     "name": "stdout",
     "output_type": "stream",
     "text": [
      "+--------------------+------------------+--------------------+---------------------+\n",
      "|           Item_Type| Item_Outlet_Sales|             percent|cumulative_percentage|\n",
      "+--------------------+------------------+--------------------+---------------------+\n",
      "|Fruits and Vegeta...|2820059.8168000015| 0.15168849408236695|  0.15168849408236695|\n",
      "|         Snack Foods| 2732786.087000002| 0.14699411825124176|   0.2986826123336087|\n",
      "|           Household|2055493.7131999983| 0.11056316752347557|  0.40924577985708427|\n",
      "|        Frozen Foods|1825734.7885999978| 0.09820464056353845|   0.5074504204206227|\n",
      "|               Dairy|1522594.0511999999| 0.08189897155705544|   0.5893493919776782|\n",
      "|              Canned|1444151.4925999993| 0.07767961652241513|   0.6670290085000934|\n",
      "|        Baking Goods|      1265525.3422| 0.06807147573175194|   0.7351004842318454|\n",
      "|  Health and Hygiene|1045200.1378000001|0.056220380139833194|   0.7913208643716786|\n",
      "|                Meat| 917565.6119999996|0.049355033207764146|   0.8406758975794427|\n",
      "|         Soft Drinks| 892897.7219999991| 0.04802816947813748|   0.8887040670575802|\n",
      "|              Breads| 553237.1887999995|0.029758133334441123|   0.9184622003920213|\n",
      "|         Hard Drinks|457793.42719999974|0.024624298803552106|   0.9430864991955734|\n",
      "|       Starchy Foods| 351401.2504000002| 0.01890155881598346|   0.9619880580115568|\n",
      "|              Others|       325517.6096|0.017509300938710434|   0.9794973589502672|\n",
      "|           Breakfast|232298.95160000006|0.012495152739384487|   0.9919925116896517|\n",
      "|             Seafood|148868.21940000003|0.008007488310348452|   1.0000000000000002|\n",
      "+--------------------+------------------+--------------------+---------------------+\n",
      "\n"
     ]
    }
   ],
   "source": [
    "df13=df13.withColumn('cumulative_percentage', F.sum('percent').over(Window.orderBy(F.col('percent').desc()).rowsBetween(Window.unboundedPreceding, 0)))\n",
    "df13.show()"
   ]
  },
  {
   "cell_type": "code",
   "execution_count": 197,
   "metadata": {},
   "outputs": [
    {
     "name": "stdout",
     "output_type": "stream",
     "text": [
      "+--------------------+---------------------+\n",
      "|           Item_Type|cumulative_percentage|\n",
      "+--------------------+---------------------+\n",
      "|Fruits and Vegeta...|  0.15168849408236695|\n",
      "|         Snack Foods|   0.2986826123336087|\n",
      "|           Household|  0.40924577985708427|\n",
      "|        Frozen Foods|   0.5074504204206227|\n",
      "|               Dairy|   0.5893493919776782|\n",
      "|              Canned|   0.6670290085000934|\n",
      "|        Baking Goods|   0.7351004842318454|\n",
      "|  Health and Hygiene|   0.7913208643716786|\n",
      "+--------------------+---------------------+\n",
      "\n"
     ]
    }
   ],
   "source": [
    "df13.filter(\"cumulative_percentage<0.80\").select(['Item_Type','cumulative_percentage']).show()"
   ]
  },
  {
   "cell_type": "code",
   "execution_count": null,
   "metadata": {},
   "outputs": [],
   "source": [
    "#Thank you"
   ]
  }
 ],
 "metadata": {
  "kernelspec": {
   "display_name": "Python 3",
   "language": "python",
   "name": "python3"
  },
  "language_info": {
   "codemirror_mode": {
    "name": "ipython",
    "version": 3
   },
   "file_extension": ".py",
   "mimetype": "text/x-python",
   "name": "python",
   "nbconvert_exporter": "python",
   "pygments_lexer": "ipython3",
   "version": "3.6.8"
  }
 },
 "nbformat": 4,
 "nbformat_minor": 2
}
